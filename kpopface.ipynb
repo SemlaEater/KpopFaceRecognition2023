{
 "cells": [
  {
   "cell_type": "code",
   "execution_count": 4,
   "id": "8b9e877c",
   "metadata": {},
   "outputs": [],
   "source": [
    "# 최종 파일\n",
    "import csv  # csv 파일 입출력\n",
    "import os  # directory 관련\n",
    "import shutil  # 파일 복사\n"
   ]
  },
  {
   "cell_type": "code",
   "execution_count": 5,
   "id": "37088783",
   "metadata": {},
   "outputs": [],
   "source": [
    "# csv 속 1열의 file_name과 2열의 name(가수이름)을 리스트에 할당함\n",
    "# input_csv 는 csv 파일, file_name와 singer_name은 리스트\n",
    "def read_file(input_csv, file_name, singer_name):          \n",
    "    with open(input_csv, 'r', newline='')as csv_file:\n",
    "        csv_reader = csv.reader(csv_file)\n",
    "        next(csv_reader)                                     # 1행 데이터 패스\n",
    "        for row in csv_reader:\n",
    "            if len(row) >= 1:\n",
    "                file_name.append(row[0])                    \n",
    "                singer_name.append(row[1])                 "
   ]
  },
  {
   "cell_type": "code",
   "execution_count": 6,
   "id": "6aa0284a",
   "metadata": {},
   "outputs": [],
   "source": [
    "# 이미지를 train과 test로 나눠서 복사하는 용도\n",
    "# original_folder는 원본파일이 있는 폴더경로, target_folder는 복사파일을 담을 폴더경로 입력\n",
    "def copy_data(original_folder, target_folder):                  \n",
    "    for filename in os.listdir(original_folder):\n",
    "        original_path = os.path.join(original_folder, filename)\n",
    "        target_path = os.path.join(target_folder, filename)\n",
    "        shutil.copy(original_path, target_path)\n"
   ]
  },
  {
   "cell_type": "code",
   "execution_count": 7,
   "id": "e0c4a9a9",
   "metadata": {},
   "outputs": [],
   "source": [
    "# 이미지 이름을 학습하기 좋게 바꿈\n",
    "# file_name, singer_name은 리스트\n",
    "def name_change(file_name, singer_name):\n",
    "    for i in range(len(file_name)):\n",
    "        renamed_image = singer_name[i]+\"_\"+file_name[i]\n",
    "        os.rename(file_name[i], renamed_image)"
   ]
  },
  {
   "cell_type": "code",
   "execution_count": 8,
   "id": "2c16ce3f",
   "metadata": {},
   "outputs": [],
   "source": [
    "# 폴더 내의 이미지 크기를 160*160로 변경함\n",
    "import cv2\n",
    "def resize_images(folder_path):\n",
    "    # 폴더 내의 파일들을 가져옴\n",
    "    file_list = os.listdir(folder_path)\n",
    "    \n",
    "    # 폴더 내의 각 파일에 대해 크기 조정\n",
    "    for file_name in file_list:\n",
    "        # 파일 확장자 확인\n",
    "        if file_name.endswith(\".jpg\"):\n",
    "            # 이미지 파일 경로 생성\n",
    "            file_path = os.path.join(folder_path, file_name)\n",
    "            \n",
    "            # 이미지 로드\n",
    "            image = cv2.imread(file_path)\n",
    "            \n",
    "            # 이미지 크기 조정\n",
    "            resized_image = cv2.resize(image, (160, 160))\n",
    "            \n",
    "            # 크기 조정된 이미지 저장\n",
    "            cv2.imwrite(file_path, resized_image)\n"
   ]
  },
  {
   "cell_type": "code",
   "execution_count": 9,
   "id": "7ad20388",
   "metadata": {},
   "outputs": [],
   "source": [
    "work_space='c:/Users/user/Desktop/DLP_project/'\n",
    "\n",
    "train_csv = work_space+\"kpopfemale/kid_f_train.csv\"     # train csv\n",
    "test_csv = work_space+\"kpopfemale/kid_f_test.csv\"       # test csv \n",
    "traindata_folder = work_space+\"kpopfemale/HQ_512x512/HQ_512x512\"    # 이미지 데이터가 저장되어 있는 폴더"
   ]
  },
  {
   "cell_type": "code",
   "execution_count": 10,
   "id": "5e2e91e0",
   "metadata": {},
   "outputs": [],
   "source": [
    "# train과 test 폴더 생성 및 각종 리스트 선언\n",
    "os.mkdir(work_space+\"train\")\n",
    "train_folder = work_space+\"train\"\n",
    "\n",
    "os.mkdir(work_space+\"test\")\n",
    "test_folder = work_space+\"test\"\n",
    "\n",
    "train_file = []       # train 이미지 파일 이름 리스트\n",
    "train_singer = []     # train 이미지 가수 이름 리스트\n",
    "test_file = []        # test 이미지 파일 이름 리스트\n",
    "test_singer = []      # test 이미지 가수 이름 리스트"
   ]
  },
  {
   "cell_type": "code",
   "execution_count": 11,
   "id": "9bb67706",
   "metadata": {},
   "outputs": [],
   "source": [
    "# train csv 안에 레이블을 이미지에 할당하고, 데이터폴더 안에 이미지 파일의 이름을 \"인물이름_파일이름.jpg\"로 변경 후 사진 데이터 크기를 512*512 -> 160*160 변경\n",
    "# test도 이하 동일\n",
    "read_file(train_csv, train_file, train_singer)\n",
    "copy_data(traindata_folder, train_folder)\n",
    "resize_images(train_folder)\n",
    "os.chdir(train_folder)\n",
    "name_change(train_file, train_singer)\n",
    "\n",
    "\n",
    "os.chdir(test_folder)\n",
    "\n",
    "# test\n",
    "read_file(test_csv, test_file, test_singer)\n",
    "copy_data(traindata_folder, test_folder)\n",
    "resize_images(test_folder)\n",
    "os.chdir(test_folder)\n",
    "name_change(test_file, test_singer)"
   ]
  },
  {
   "cell_type": "code",
   "execution_count": null,
   "id": "2fd65960",
   "metadata": {},
   "outputs": [],
   "source": []
  },
  {
   "cell_type": "code",
   "execution_count": 12,
   "id": "a81cf955",
   "metadata": {},
   "outputs": [],
   "source": [
    "# 클래스를 선언하기 위해 train_singer, test_singer 리스트의 요소들의 중복을 제거한다. 가수이름의 폴더를 생성하고 각각에 가수이미지를 옮긴다.\n",
    "norepeated_singer=[]    \n",
    "for i in train_singer:\n",
    "    if i not in norepeated_singer:\n",
    "        norepeated_singer.append(i)\n",
    "\n",
    "for k in norepeated_singer:\n",
    "    train_folder_path=os.path.join(work_space+\"train\",k)\n",
    "    os.makedirs(train_folder_path, exist_ok=True)\n",
    "    for imagename in os.listdir(work_space+\"train\"):\n",
    "        if imagename.endswith('.jpg') and k in imagename:\n",
    "              src_path = os.path.join(work_space+\"train\", imagename)\n",
    "              dst_path = os.path.join(train_folder_path, imagename)\n",
    "              shutil.move(src_path, dst_path)  # 파일을 해당 폴더로 이동\n",
    "\n",
    "for m in norepeated_singer:\n",
    "    test_folder_path=os.path.join(work_space+\"test\",m)\n",
    "    os.makedirs(test_folder_path, exist_ok=True)\n",
    "    for imagename in os.listdir(work_space+\"test\"):\n",
    "        if imagename.endswith('.jpg') and m in imagename:\n",
    "              src_path = os.path.join(work_space+\"test\", imagename)\n",
    "              dst_path = os.path.join(test_folder_path, imagename)\n",
    "              shutil.move(src_path, dst_path)  # 파일을 해당 폴더로 이동\n"
   ]
  },
  {
   "cell_type": "code",
   "execution_count": 13,
   "id": "e8b58b8d",
   "metadata": {},
   "outputs": [],
   "source": [
    "import tensorflow as tf\n",
    "from tensorflow.keras.applications import MobileNetV2\n",
    "from tensorflow.keras.preprocessing.image import ImageDataGenerator\n",
    "rows=160  # 이미지 높이\n",
    "cols=160  # 이미지 너비"
   ]
  },
  {
   "cell_type": "code",
   "execution_count": 14,
   "id": "30cc455e",
   "metadata": {},
   "outputs": [],
   "source": [
    "# MobileNetV2 모델 생성\n",
    "trained_model=MobileNetV2(input_shape=(rows,cols,3),           # 입력 이미지 형태: 높이 160 너비 160 컬러 이미지 색상: RGB\n",
    "                    include_top=False,                          \n",
    "                    weights='imagenet')                        # ImageNet 데이터셋의 사전 훈련된 가중치 사용\n",
    "trained_model.trainable=True                                   # 훈련 가능하도록 설정\n",
    "# trained_model.summary()"
   ]
  },
  {
   "cell_type": "code",
   "execution_count": 15,
   "id": "b8778b15",
   "metadata": {},
   "outputs": [],
   "source": [
    "# 마지막 레이어를 드롭아웃으로 선언\n",
    "last_layer=trained_model.get_layer('out_relu')   \n",
    "last_layer_output=last_layer.output  #Saves the output of the last layer of the MobileNetV2."
   ]
  },
  {
   "cell_type": "code",
   "execution_count": 16,
   "id": "94724947",
   "metadata": {},
   "outputs": [],
   "source": [
    "# accuracy가 98%가 되면 콜백함수를 이용해 학습을 멈춤\n",
    "class myCallback(tf.keras.callbacks.Callback):\n",
    "  def on_epoch_end(self, epoch, logs={}):\n",
    "    if(logs.get('accuracy') > 0.98):\n",
    "      print(\"\\nReached 98% accuracy so cancelling training!\")\n",
    "      self.model.stop_training = True\n",
    "callbacks=myCallback()"
   ]
  },
  {
   "cell_type": "code",
   "execution_count": 17,
   "id": "3801c0be",
   "metadata": {},
   "outputs": [],
   "source": [
    "# 마지막 레이어를 드롭아웃으로 정해서 추가한 후(과대 적합 방지) softmax를 이용한 Dense 레이어 추가\n",
    "x = tf.keras.layers.GlobalAveragePooling2D()(last_layer_output)\n",
    "\n",
    "x = tf.keras.layers.Dropout(0.8)(x)                               \n",
    "# Add a final softmax layer for classification.\n",
    "x = tf.keras.layers.Dense(55,activation='softmax')(x)           # 55는 클래스(인물) 수\n",
    "\n",
    "model = tf.keras.Model(trained_model.input,x) \n",
    "\n",
    "model.compile(loss='categorical_crossentropy',                  # 모델 컴파일 손실함수\n",
    "              optimizer=tf.keras.optimizers.Adam(1e-4),         # adam 옵티마이저(최적화)\n",
    "              metrics=['accuracy'])                             # 평가지표\n",
    "\n",
    "# model.summary()"
   ]
  },
  {
   "cell_type": "code",
   "execution_count": 18,
   "id": "a254da6d",
   "metadata": {},
   "outputs": [
    {
     "name": "stdout",
     "output_type": "stream",
     "text": [
      "Found 5591 images belonging to 55 classes.\n",
      "Found 235 images belonging to 55 classes.\n"
     ]
    }
   ],
   "source": [
    "train_datagen = ImageDataGenerator(rescale=1/255,                   \n",
    "                                 shear_range=0.2,                   \n",
    "                                 zoom_range=0.2,                    \n",
    "                                 horizontal_flip=True,              \n",
    "                                 rotation_range=40,\n",
    "                                 width_shift_range=0.1,\n",
    "                                 height_shift_range=0.1)\n",
    "                                 \n",
    "test_datagen = ImageDataGenerator(rescale=1/255)\n",
    "train_dir=work_space+\"train\"\n",
    "test_dir=work_space+\"test\"\n",
    "train_generator=train_datagen.flow_from_directory(train_dir,\n",
    "                                                  target_size=(rows,cols),\n",
    "                                                  class_mode='categorical')\n",
    "\n",
    "test_generator=test_datagen.flow_from_directory(test_dir,\n",
    "                                                target_size=(rows,cols),\n",
    "                                                class_mode='categorical')"
   ]
  },
  {
   "cell_type": "code",
   "execution_count": 19,
   "id": "241abe00",
   "metadata": {},
   "outputs": [
    {
     "name": "stdout",
     "output_type": "stream",
     "text": [
      "Epoch 1/50\n",
      "175/175 [==============================] - 44s 196ms/step - loss: 2.9696 - accuracy: 0.3180 - val_loss: 3.7324 - val_accuracy: 0.3191\n",
      "Epoch 2/50\n",
      "175/175 [==============================] - 32s 183ms/step - loss: 1.6901 - accuracy: 0.5679 - val_loss: 2.5761 - val_accuracy: 0.4553\n",
      "Epoch 3/50\n",
      "175/175 [==============================] - 33s 187ms/step - loss: 1.3810 - accuracy: 0.6437 - val_loss: 1.8203 - val_accuracy: 0.5234\n",
      "Epoch 4/50\n",
      "175/175 [==============================] - 32s 184ms/step - loss: 1.1745 - accuracy: 0.6963 - val_loss: 2.3316 - val_accuracy: 0.4255\n",
      "Epoch 5/50\n",
      "175/175 [==============================] - 32s 184ms/step - loss: 1.0231 - accuracy: 0.7374 - val_loss: 2.1759 - val_accuracy: 0.4638\n",
      "Epoch 6/50\n",
      "175/175 [==============================] - 32s 184ms/step - loss: 0.9153 - accuracy: 0.7603 - val_loss: 1.7008 - val_accuracy: 0.5702\n",
      "Epoch 7/50\n",
      "175/175 [==============================] - 32s 185ms/step - loss: 0.8105 - accuracy: 0.7913 - val_loss: 1.7131 - val_accuracy: 0.5915\n",
      "Epoch 8/50\n",
      "175/175 [==============================] - 33s 186ms/step - loss: 0.7478 - accuracy: 0.8000 - val_loss: 1.6102 - val_accuracy: 0.6170\n",
      "Epoch 9/50\n",
      "175/175 [==============================] - 33s 186ms/step - loss: 0.6699 - accuracy: 0.8258 - val_loss: 1.2692 - val_accuracy: 0.6936\n",
      "Epoch 10/50\n",
      "175/175 [==============================] - 32s 185ms/step - loss: 0.6050 - accuracy: 0.8408 - val_loss: 1.2356 - val_accuracy: 0.6766\n",
      "Epoch 11/50\n",
      "175/175 [==============================] - 32s 185ms/step - loss: 0.5476 - accuracy: 0.8596 - val_loss: 1.1932 - val_accuracy: 0.6936\n",
      "Epoch 12/50\n",
      "175/175 [==============================] - 32s 184ms/step - loss: 0.5290 - accuracy: 0.8626 - val_loss: 1.0526 - val_accuracy: 0.7106\n",
      "Epoch 13/50\n",
      "175/175 [==============================] - 32s 185ms/step - loss: 0.4782 - accuracy: 0.8759 - val_loss: 0.9802 - val_accuracy: 0.7660\n",
      "Epoch 14/50\n",
      "175/175 [==============================] - 32s 185ms/step - loss: 0.4312 - accuracy: 0.8846 - val_loss: 0.9189 - val_accuracy: 0.7574\n",
      "Epoch 15/50\n",
      "175/175 [==============================] - 33s 186ms/step - loss: 0.3982 - accuracy: 0.8925 - val_loss: 0.7465 - val_accuracy: 0.7830\n",
      "Epoch 16/50\n",
      "175/175 [==============================] - 32s 184ms/step - loss: 0.3623 - accuracy: 0.9022 - val_loss: 0.6435 - val_accuracy: 0.8213\n",
      "Epoch 17/50\n",
      "175/175 [==============================] - 33s 185ms/step - loss: 0.3261 - accuracy: 0.9115 - val_loss: 0.5924 - val_accuracy: 0.8468\n",
      "Epoch 18/50\n",
      "175/175 [==============================] - 32s 184ms/step - loss: 0.3292 - accuracy: 0.9082 - val_loss: 0.4769 - val_accuracy: 0.8851\n",
      "Epoch 19/50\n",
      "175/175 [==============================] - 32s 185ms/step - loss: 0.2964 - accuracy: 0.9186 - val_loss: 0.4920 - val_accuracy: 0.8681\n",
      "Epoch 20/50\n",
      "175/175 [==============================] - 32s 185ms/step - loss: 0.2801 - accuracy: 0.9240 - val_loss: 0.5405 - val_accuracy: 0.8766\n",
      "Epoch 21/50\n",
      "175/175 [==============================] - 33s 186ms/step - loss: 0.2531 - accuracy: 0.9288 - val_loss: 0.5502 - val_accuracy: 0.8468\n",
      "Epoch 22/50\n",
      "175/175 [==============================] - 32s 183ms/step - loss: 0.2289 - accuracy: 0.9344 - val_loss: 0.7057 - val_accuracy: 0.8426\n",
      "Epoch 23/50\n",
      "175/175 [==============================] - 33s 185ms/step - loss: 0.2143 - accuracy: 0.9417 - val_loss: 0.7221 - val_accuracy: 0.8426\n",
      "Epoch 24/50\n",
      "175/175 [==============================] - 32s 183ms/step - loss: 0.2106 - accuracy: 0.9412 - val_loss: 0.7186 - val_accuracy: 0.8255\n",
      "Epoch 25/50\n",
      "175/175 [==============================] - 33s 186ms/step - loss: 0.2033 - accuracy: 0.9424 - val_loss: 0.8779 - val_accuracy: 0.7957\n",
      "Epoch 26/50\n",
      "175/175 [==============================] - 32s 184ms/step - loss: 0.1913 - accuracy: 0.9456 - val_loss: 0.8090 - val_accuracy: 0.8128\n",
      "Epoch 27/50\n",
      "175/175 [==============================] - 32s 184ms/step - loss: 0.1801 - accuracy: 0.9460 - val_loss: 0.7952 - val_accuracy: 0.8213\n",
      "Epoch 28/50\n",
      "175/175 [==============================] - 32s 183ms/step - loss: 0.1816 - accuracy: 0.9471 - val_loss: 0.4357 - val_accuracy: 0.8894\n",
      "Epoch 29/50\n",
      "175/175 [==============================] - 32s 185ms/step - loss: 0.1605 - accuracy: 0.9519 - val_loss: 0.6883 - val_accuracy: 0.8383\n",
      "Epoch 30/50\n",
      "175/175 [==============================] - 32s 185ms/step - loss: 0.1535 - accuracy: 0.9573 - val_loss: 0.5663 - val_accuracy: 0.8723\n",
      "Epoch 31/50\n",
      "175/175 [==============================] - 32s 183ms/step - loss: 0.1537 - accuracy: 0.9569 - val_loss: 0.6799 - val_accuracy: 0.8468\n",
      "Epoch 32/50\n",
      "175/175 [==============================] - 32s 185ms/step - loss: 0.1424 - accuracy: 0.9607 - val_loss: 0.6726 - val_accuracy: 0.8255\n",
      "Epoch 33/50\n",
      "175/175 [==============================] - 32s 184ms/step - loss: 0.1372 - accuracy: 0.9608 - val_loss: 0.4658 - val_accuracy: 0.8851\n",
      "Epoch 34/50\n",
      "175/175 [==============================] - 33s 186ms/step - loss: 0.1192 - accuracy: 0.9646 - val_loss: 0.4177 - val_accuracy: 0.8851\n",
      "Epoch 35/50\n",
      "175/175 [==============================] - 33s 186ms/step - loss: 0.1207 - accuracy: 0.9678 - val_loss: 0.8396 - val_accuracy: 0.8255\n",
      "Epoch 36/50\n",
      "175/175 [==============================] - 33s 186ms/step - loss: 0.1300 - accuracy: 0.9619 - val_loss: 0.4925 - val_accuracy: 0.8638\n",
      "Epoch 37/50\n",
      "175/175 [==============================] - 32s 185ms/step - loss: 0.1105 - accuracy: 0.9676 - val_loss: 0.5904 - val_accuracy: 0.8809\n",
      "Epoch 38/50\n",
      "175/175 [==============================] - 33s 185ms/step - loss: 0.1015 - accuracy: 0.9696 - val_loss: 0.6288 - val_accuracy: 0.8809\n",
      "Epoch 39/50\n",
      "175/175 [==============================] - 33s 187ms/step - loss: 0.1080 - accuracy: 0.9710 - val_loss: 0.7991 - val_accuracy: 0.8638\n",
      "Epoch 40/50\n",
      "175/175 [==============================] - 33s 186ms/step - loss: 0.1058 - accuracy: 0.9691 - val_loss: 0.4821 - val_accuracy: 0.9021\n",
      "Epoch 41/50\n",
      "175/175 [==============================] - 32s 185ms/step - loss: 0.1028 - accuracy: 0.9691 - val_loss: 0.4638 - val_accuracy: 0.8936\n",
      "Epoch 42/50\n",
      "175/175 [==============================] - 33s 186ms/step - loss: 0.0938 - accuracy: 0.9739 - val_loss: 0.6687 - val_accuracy: 0.8553\n",
      "Epoch 43/50\n",
      "175/175 [==============================] - 32s 184ms/step - loss: 0.0857 - accuracy: 0.9734 - val_loss: 0.6630 - val_accuracy: 0.8851\n",
      "Epoch 44/50\n",
      "175/175 [==============================] - 33s 189ms/step - loss: 0.0743 - accuracy: 0.9796 - val_loss: 0.6456 - val_accuracy: 0.8809\n",
      "Epoch 45/50\n",
      "175/175 [==============================] - 33s 188ms/step - loss: 0.0756 - accuracy: 0.9778 - val_loss: 1.0027 - val_accuracy: 0.8255\n",
      "Epoch 46/50\n",
      "175/175 [==============================] - 32s 185ms/step - loss: 0.0889 - accuracy: 0.9744 - val_loss: 0.8738 - val_accuracy: 0.8638\n",
      "Epoch 47/50\n",
      "175/175 [==============================] - 32s 185ms/step - loss: 0.0759 - accuracy: 0.9769 - val_loss: 0.7041 - val_accuracy: 0.8723\n",
      "Epoch 48/50\n",
      "175/175 [==============================] - 33s 186ms/step - loss: 0.0859 - accuracy: 0.9751 - val_loss: 0.9736 - val_accuracy: 0.8128\n",
      "Epoch 49/50\n",
      "175/175 [==============================] - 32s 185ms/step - loss: 0.0739 - accuracy: 0.9789 - val_loss: 0.6822 - val_accuracy: 0.8681\n",
      "Epoch 50/50\n",
      "175/175 [==============================] - 33s 187ms/step - loss: 0.0665 - accuracy: 0.9816 - val_loss: 0.9374 - val_accuracy: 0.8511\n",
      "\n",
      "Reached 98% accuracy so cancelling training!\n"
     ]
    }
   ],
   "source": [
    "# 모델 학습 시작\n",
    "result=model.fit(train_generator,\n",
    "                 validation_data=test_generator,\n",
    "                 epochs=50,\n",
    "                 callbacks=[callbacks],\n",
    "                 verbose=1)"
   ]
  },
  {
   "cell_type": "code",
   "execution_count": 20,
   "id": "bdcd67e5",
   "metadata": {},
   "outputs": [
    {
     "data": {
      "image/png": "[encoded data removed]",
      "text/plain": [
       "<Figure size 900x800 with 2 Axes>"
      ]
     },
     "metadata": {},
     "output_type": "display_data"
    }
   ],
   "source": [
    "# 모델 평가\n",
    "import matplotlib.pyplot as plt\n",
    "\n",
    "acc = result.history['accuracy']            # train 과정에서의 accuracy           \n",
    "val_acc = result.history['val_accuracy']    # validation 과정에서의 accuracy\n",
    "\n",
    "loss = result.history['loss']               # train 과정에서의 loss\n",
    "val_loss = result.history['val_loss']       # validation 과정에서의 loss\n",
    "\n",
    "epochs_range = range(50)                    # x축: 에포크 수\n",
    "\n",
    "plt.figure(figsize=(9, 8))\n",
    "plt.subplot(1, 2, 1)\n",
    "plt.plot(epochs_range, acc, label='Training Accuracy')\n",
    "plt.plot(epochs_range, val_acc, label='Validation Accuracy')\n",
    "plt.legend(loc='lower right')\n",
    "plt.title('Training and Validation Accuracy')\n",
    "\n",
    "plt.subplot(1, 2, 2)\n",
    "plt.plot(epochs_range, loss, label='Training Loss')\n",
    "plt.plot(epochs_range, val_loss, label='Validation Loss')\n",
    "plt.legend(loc='upper right')\n",
    "plt.title('Training and Validation Loss')\n",
    "plt.show()\n",
    "\n",
    "# 결과 성공적"
   ]
  },
  {
   "cell_type": "code",
   "execution_count": 33,
   "id": "3bf311ce",
   "metadata": {},
   "outputs": [
    {
     "name": "stdout",
     "output_type": "stream",
     "text": [
      "사진 속 인물은 Kimchaewon 와 닮았습니다.\n"
     ]
    }
   ],
   "source": [
    "import numpy as np\n",
    "image_path=\"C:\\\\Users\\\\user\\\\Desktop\\\\DLP_project\\\\test_face.jpg\"  # 사용자가 원하는 사진의 경로를 입력(단, 얼굴 위주의 160*160사이즈의 사진이어야 함)\n",
    "\n",
    "classes=train_generator.class_indices # 훈련 데이터셋의 클래스 인덱스를 가져옴.\n",
    "class_names=list(classes.keys())   \n",
    "\n",
    "img = tf.keras.preprocessing.image.load_img( #\n",
    "    image_path, target_size=(rows, cols)\n",
    ")\n",
    "\n",
    "img_array = tf.keras.preprocessing.image.img_to_array(img)\n",
    "img_array = tf.expand_dims(img_array, 0) # Create a batch\n",
    "img_array=img_array/255.\n",
    "\n",
    "score = model.predict(img_array)\n",
    "\n",
    "print(\"사진 속 인물은 {} 와 닮았습니다.\".format(class_names[np.argmax(score)][0:].title()))"
   ]
  },
  {
   "attachments": {},
   "cell_type": "markdown",
   "id": "ce74ad20",
   "metadata": {},
   "source": []
  },
  {
   "attachments": {},
   "cell_type": "markdown",
   "id": "c353ad2c",
   "metadata": {},
   "source": []
  }
 ],
 "metadata": {
  "kernelspec": {
   "display_name": "Python 3 (ipykernel)",
   "language": "python",
   "name": "python3"
  },
  "language_info": {
   "codemirror_mode": {
    "name": "ipython",
    "version": 3
   },
   "file_extension": ".py",
   "mimetype": "text/x-python",
   "name": "python",
   "nbconvert_exporter": "python",
   "pygments_lexer": "ipython3",
   "version": "3.9.15"
  }
 },
 "nbformat": 4,
 "nbformat_minor": 5
}
